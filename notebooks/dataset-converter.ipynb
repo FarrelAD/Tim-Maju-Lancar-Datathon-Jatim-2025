{
 "cells": [
  {
   "cell_type": "code",
   "execution_count": 2,
   "id": "01e9c16a",
   "metadata": {},
   "outputs": [],
   "source": [
    "import pandas as pd\n",
    "import glob\n",
    "import os"
   ]
  },
  {
   "cell_type": "markdown",
   "id": "2eabe778",
   "metadata": {},
   "source": [
    "# Convert all data from JSON to a single CSV and Excel file"
   ]
  },
  {
   "cell_type": "code",
   "execution_count": null,
   "id": "9cddf0c5",
   "metadata": {},
   "outputs": [],
   "source": [
    "files_jatim = glob.glob('../data/dapo-kemdikdasmen/Jawa-Timur/*/*/*.json')\n",
    "\n",
    "temp_df_jatim = []\n",
    "\n",
    "for f in files_jatim:\n",
    "    df = pd.read_json(f)\n",
    "    filename = os.path.splitext(os.path.basename(f))[0]\n",
    "    df.insert(0, 'sekolah', filename)\n",
    "    temp_df_jatim.append(df)\n",
    "\n",
    "df_jatim = pd.concat(temp_df_jatim, ignore_index=True)\n",
    "\n",
    "df_jatim.to_csv('../data/dapo-kemdikdasmen/Jawa-Timur/ALL/jatim-csv.csv', index=False)\n",
    "df_jatim.to_excel('../data/dapo-kemdikdasmen/Jawa-Timur/ALL/jatim-excel.xlsx', index=False)"
   ]
  }
 ],
 "metadata": {
  "kernelspec": {
   "display_name": ".venv",
   "language": "python",
   "name": "python3"
  },
  "language_info": {
   "codemirror_mode": {
    "name": "ipython",
    "version": 3
   },
   "file_extension": ".py",
   "mimetype": "text/x-python",
   "name": "python",
   "nbconvert_exporter": "python",
   "pygments_lexer": "ipython3",
   "version": "3.12.11"
  }
 },
 "nbformat": 4,
 "nbformat_minor": 5
}
