{
 "cells": [
  {
   "cell_type": "code",
   "execution_count": 12,
   "id": "01e9c16a",
   "metadata": {},
   "outputs": [],
   "source": [
    "import pandas as pd\n",
    "import glob\n",
    "from pathlib import Path\n",
    "from typing import List"
   ]
  },
  {
   "cell_type": "markdown",
   "id": "2eabe778",
   "metadata": {},
   "source": [
    "# Convert all data from JSON to a single CSV and Excel file"
   ]
  },
  {
   "cell_type": "markdown",
   "id": "feefad10",
   "metadata": {},
   "source": [
    "## East Java data"
   ]
  },
  {
   "cell_type": "code",
   "execution_count": null,
   "id": "9cddf0c5",
   "metadata": {},
   "outputs": [],
   "source": [
    "dapo_kemdikdasmen_dir = Path('../data/dapo-kemdikdasmen')\n",
    "semester_list = [p.name for p in dapo_kemdikdasmen_dir.iterdir() if p.is_dir()]\n",
    "\n",
    "files_jatim_all_years = {\n",
    "    year: [\n",
    "        f\n",
    "        for f in glob.glob(f'../data/dapo-kemdikdasmen/{year}/Prov. Jawa Timur/*/*/*.json')\n",
    "        if Path(f).name != 'ALL.json'\n",
    "    ]\n",
    "    for year in semester_list\n",
    "}\n",
    "\n",
    "async def convert_all_schools_json_to_single_csv(semester_id: str, file_path: List[str]) -> None:\n",
    "    temp_df_jatim = []\n",
    "\n",
    "    for f in file_path:\n",
    "        p = Path(f)\n",
    "        \n",
    "        sekolah = p.stem\n",
    "        kecamatan = p.parent.name\n",
    "        kabupaten = p.parent.parent.name\n",
    "        semester_id = p.parent.parent.parent.parent.name\n",
    "        \n",
    "        df = pd.read_json(p)\n",
    "        \n",
    "        # insert `kabupaten`, `kecamatan`, and `sekolah` column\n",
    "        df.insert(0, 'kabupaten/kota', kabupaten)\n",
    "        df.insert(1, 'kecamatan', kecamatan)\n",
    "        df.insert(2, 'sekolah', sekolah)\n",
    "        \n",
    "        temp_df_jatim.append(df)\n",
    "\n",
    "    df_jatim = pd.concat(temp_df_jatim, ignore_index=True)\n",
    "    \n",
    "    target_all_dir = Path(f'../data/dapo-kemdikdasmen/{semester_id}/Prov. Jawa Timur/ALL')\n",
    "    \n",
    "    target_all_dir.mkdir(parents=True, exist_ok=True)\n",
    "\n",
    "    df_jatim.to_csv(target_all_dir / 'jatim-csv.csv', index=False)\n",
    "    df_jatim.to_excel(target_all_dir /  'jatim-excel.xlsx', index=False)\n",
    "\n",
    "for index, semester in enumerate(semester_list):\n",
    "    await convert_all_schools_json_to_single_csv(semester_id=semester, file_path=files_jatim_all_years[semester])"
   ]
  },
  {
   "cell_type": "markdown",
   "id": "0abc67e9",
   "metadata": {},
   "source": [
    "## All schools in Indonesia"
   ]
  },
  {
   "cell_type": "code",
   "execution_count": 4,
   "id": "c4467cbf",
   "metadata": {},
   "outputs": [],
   "source": [
    "files_indonesia_slb = [\n",
    "    f for f in glob.glob('../data/dapo-kemdikdasmen/*/*/*/*.json')\n",
    "    if Path(f).name != \"ALL.json\"\n",
    "]\n",
    "\n",
    "\n",
    "temp_df_indonesia_slb = []\n",
    "\n",
    "for f in files_indonesia_slb:\n",
    "    p = Path(f)\n",
    "    \n",
    "    sekolah = p.stem\n",
    "    kecamatan = p.parent.name\n",
    "    kabupaten = p.parent.parent.name\n",
    "    provinsi = p.parent.parent.parent.name\n",
    "    \n",
    "    df = pd.read_json(p)\n",
    "    \n",
    "    # insert `provinsi`, `kabupaten`, `kecamatan`, and `sekolah` column\n",
    "    df.insert(0, 'provinsi', provinsi)\n",
    "    df.insert(1, 'kabupaten/kota', kabupaten)\n",
    "    df.insert(2, 'kecamatan', kecamatan)\n",
    "    df.insert(3, 'sekolah', sekolah)\n",
    "    \n",
    "    temp_df_indonesia_slb.append(df)\n",
    "\n",
    "df_indonesia_slb = pd.concat(temp_df_indonesia_slb, ignore_index=True)\n",
    "\n",
    "df_indonesia_slb.to_csv('../data/dapo-kemdikdasmen/ALL/indonesia-slb-csv.csv', index=False)\n",
    "df_indonesia_slb.to_excel('../data/dapo-kemdikdasmen/ALL/indonesia-slb-excel.xlsx', index=False)"
   ]
  }
 ],
 "metadata": {
  "kernelspec": {
   "display_name": ".venv",
   "language": "python",
   "name": "python3"
  },
  "language_info": {
   "codemirror_mode": {
    "name": "ipython",
    "version": 3
   },
   "file_extension": ".py",
   "mimetype": "text/x-python",
   "name": "python",
   "nbconvert_exporter": "python",
   "pygments_lexer": "ipython3",
   "version": "3.12.11"
  }
 },
 "nbformat": 4,
 "nbformat_minor": 5
}
