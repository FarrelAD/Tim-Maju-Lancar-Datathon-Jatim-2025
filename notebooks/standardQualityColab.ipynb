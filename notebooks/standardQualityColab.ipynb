{
 "cells": [
  {
   "cell_type": "code",
   "execution_count": 1,
   "id": "5e0173de",
   "metadata": {},
   "outputs": [],
   "source": [
    "import pandas as pd\n",
    "import numpy as np\n",
    "import matplotlib.pyplot as plt\n",
    "import seaborn as sns\n"
   ]
  },
  {
   "cell_type": "code",
   "execution_count": 2,
   "id": "67086f6d",
   "metadata": {},
   "outputs": [],
   "source": [
    "pd.set_option('display.max_rows', 200)\n",
    "pd.set_option('display.max_columns', 200)\n",
    "sns.set(style=\"whitegrid\")"
   ]
  },
  {
   "cell_type": "code",
   "execution_count": 3,
   "id": "6ceddd4a",
   "metadata": {},
   "outputs": [
    {
     "name": "stdout",
     "output_type": "stream",
     "text": [
      "File not found: jatim-csv.csv\n",
      "File not found: data/jatim-csv.csv\n",
      "File not found: ../data/jatim-csv.csv\n",
      "File not found: jatim-excel-lengkap.xlsx\n",
      "Google Colab tidak tersedia. Pastikan file data ada di direktori yang benar.\n"
     ]
    },
    {
     "ename": "RuntimeError",
     "evalue": "Gagal memuat data. Pastikan file 'jatim-csv.csv' atau 'jatim-excel-lengkap.xlsx' tersedia di direktori project.",
     "output_type": "error",
     "traceback": [
      "\u001b[1;31m---------------------------------------------------------------------------\u001b[0m",
      "\u001b[1;31mModuleNotFoundError\u001b[0m                       Traceback (most recent call last)",
      "Cell \u001b[1;32mIn[3], line 26\u001b[0m\n\u001b[0;32m     25\u001b[0m \u001b[38;5;28;01mtry\u001b[39;00m:\n\u001b[1;32m---> 26\u001b[0m     \u001b[38;5;28;01mfrom\u001b[39;00m\u001b[38;5;250m \u001b[39m\u001b[38;5;21;01mgoogle\u001b[39;00m\u001b[38;5;21;01m.\u001b[39;00m\u001b[38;5;21;01mcolab\u001b[39;00m\u001b[38;5;250m \u001b[39m\u001b[38;5;28;01mimport\u001b[39;00m files\n\u001b[0;32m     27\u001b[0m     uploaded \u001b[38;5;241m=\u001b[39m files\u001b[38;5;241m.\u001b[39mupload()\n",
      "\u001b[1;31mModuleNotFoundError\u001b[0m: No module named 'google.colab'",
      "\nDuring handling of the above exception, another exception occurred:\n",
      "\u001b[1;31mRuntimeError\u001b[0m                              Traceback (most recent call last)",
      "Cell \u001b[1;32mIn[3], line 41\u001b[0m\n\u001b[0;32m     39\u001b[0m \u001b[38;5;28;01mexcept\u001b[39;00m \u001b[38;5;167;01mImportError\u001b[39;00m:\n\u001b[0;32m     40\u001b[0m     \u001b[38;5;28mprint\u001b[39m(\u001b[38;5;124m\"\u001b[39m\u001b[38;5;124mGoogle Colab tidak tersedia. Pastikan file data ada di direktori yang benar.\u001b[39m\u001b[38;5;124m\"\u001b[39m)\n\u001b[1;32m---> 41\u001b[0m     \u001b[38;5;28;01mraise\u001b[39;00m \u001b[38;5;167;01mRuntimeError\u001b[39;00m(\u001b[38;5;124m\"\u001b[39m\u001b[38;5;124mGagal memuat data. Pastikan file \u001b[39m\u001b[38;5;124m'\u001b[39m\u001b[38;5;124mjatim-csv.csv\u001b[39m\u001b[38;5;124m'\u001b[39m\u001b[38;5;124m atau \u001b[39m\u001b[38;5;124m'\u001b[39m\u001b[38;5;124mjatim-excel-lengkap.xlsx\u001b[39m\u001b[38;5;124m'\u001b[39m\u001b[38;5;124m tersedia di direktori project.\u001b[39m\u001b[38;5;124m\"\u001b[39m)\n\u001b[0;32m     42\u001b[0m \u001b[38;5;28;01mexcept\u001b[39;00m \u001b[38;5;167;01mException\u001b[39;00m \u001b[38;5;28;01mas\u001b[39;00m e:\n\u001b[0;32m     43\u001b[0m     \u001b[38;5;28;01mraise\u001b[39;00m \u001b[38;5;167;01mRuntimeError\u001b[39;00m(\u001b[38;5;124mf\u001b[39m\u001b[38;5;124m\"\u001b[39m\u001b[38;5;124mGagal memuat data: \u001b[39m\u001b[38;5;132;01m{\u001b[39;00m\u001b[38;5;28mstr\u001b[39m(e)\u001b[38;5;132;01m}\u001b[39;00m\u001b[38;5;124m\"\u001b[39m)\n",
      "\u001b[1;31mRuntimeError\u001b[0m: Gagal memuat data. Pastikan file 'jatim-csv.csv' atau 'jatim-excel-lengkap.xlsx' tersedia di direktori project."
     ]
    }
   ],
   "source": [
    "file_path_candidates = [\n",
    "    'jatim-csv.csv',\n",
    "    'data/jatim-csv.csv',\n",
    "    '../data/jatim-csv.csv',\n",
    "    'jatim-excel-lengkap.xlsx'\n",
    "]\n",
    "\n",
    "df = None\n",
    "for p in file_path_candidates:\n",
    "    try:\n",
    "        if p.endswith('.csv'):\n",
    "            df = pd.read_csv(p)\n",
    "        elif p.endswith('.xlsx'):\n",
    "            df = pd.read_excel(p)\n",
    "        print(f\"Loaded: {p}\")\n",
    "        break\n",
    "    except FileNotFoundError:\n",
    "        print(f\"File not found: {p}\")\n",
    "        continue\n",
    "    except Exception as e:\n",
    "        print(f\"Error loading {p}: {str(e)}\")\n",
    "        continue\n",
    "\n",
    "if df is None:\n",
    "    try:\n",
    "        from google.colab import files\n",
    "        uploaded = files.upload()\n",
    "        filename = list(uploaded.keys())[0]\n",
    "        \n",
    "        # Handle both CSV and Excel files\n",
    "        if filename.endswith('.csv'):\n",
    "            df = pd.read_csv(filename)\n",
    "        elif filename.endswith(('.xlsx', '.xls')):\n",
    "            df = pd.read_excel(filename)\n",
    "        else:\n",
    "            raise ValueError(\"File format not supported. Please upload CSV or Excel file.\")\n",
    "            \n",
    "        print(f\"Loaded via upload: {filename}\")\n",
    "    except ImportError:\n",
    "        print(\"Google Colab tidak tersedia. Pastikan file data ada di direktori yang benar.\")\n",
    "        raise RuntimeError(\"Gagal memuat data. Pastikan file 'jatim-csv.csv' atau 'jatim-excel-lengkap.xlsx' tersedia di direktori project.\")\n",
    "    except Exception as e:\n",
    "        raise RuntimeError(f\"Gagal memuat data: {str(e)}\")\n",
    "\n",
    "if df is not None:\n",
    "    print(\"Ukuran data:\", df.shape)\n",
    "    print(\"Kolom:\", list(df.columns)[:15])\n",
    "    if len(df.columns) > 15:\n",
    "        print(\"...\")\n",
    "else:\n",
    "    raise RuntimeError(\"Tidak ada data yang berhasil dimuat.\")"
   ]
  }
 ],
 "metadata": {
  "kernelspec": {
   "display_name": "base",
   "language": "python",
   "name": "python3"
  },
  "language_info": {
   "codemirror_mode": {
    "name": "ipython",
    "version": 3
   },
   "file_extension": ".py",
   "mimetype": "text/x-python",
   "name": "python",
   "nbconvert_exporter": "python",
   "pygments_lexer": "ipython3",
   "version": "3.13.5"
  }
 },
 "nbformat": 4,
 "nbformat_minor": 5
}
